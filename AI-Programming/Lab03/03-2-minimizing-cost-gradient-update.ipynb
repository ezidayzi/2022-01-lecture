{
 "cells": [
  {
   "cell_type": "code",
   "execution_count": 2,
   "outputs": [
    {
     "name": "stdout",
     "output_type": "stream",
     "text": [
      "0 3.3085861 [0.5509274]\n",
      "1 0.94110894 [0.76049465]\n",
      "2 0.26769316 [0.8722638]\n",
      "3 0.07614388 [0.93187404]\n",
      "4 0.021658683 [0.96366614]\n",
      "5 0.006160701 [0.98062193]\n",
      "6 0.0017523728 [0.98966503]\n",
      "7 0.000498454 [0.994488]\n",
      "8 0.0001417833 [0.99706024]\n",
      "9 4.0330586e-05 [0.99843216]\n",
      "10 1.1471246e-05 [0.9991638]\n",
      "11 3.2631249e-06 [0.99955404]\n",
      "12 9.282226e-07 [0.9997622]\n",
      "13 2.638879e-07 [0.99987316]\n",
      "14 7.507757e-08 [0.99993235]\n",
      "15 2.1349843e-08 [0.99996394]\n",
      "16 6.0727494e-09 [0.99998075]\n",
      "17 1.7274111e-09 [0.99998975]\n",
      "18 4.9048293e-10 [0.9999945]\n",
      "19 1.4032746e-10 [0.9999971]\n",
      "20 4.0156323e-11 [0.99999845]\n"
     ]
    },
    {
     "data": {
      "text/plain": "'\\n0 1.93919 [ 1.64462376]\\n1 0.551591 [ 1.34379935]\\n2 0.156897 [ 1.18335962]\\n3 0.0446285 [ 1.09779179]\\n4 0.0126943 [ 1.05215561]\\n5 0.00361082 [ 1.0278163]\\n6 0.00102708 [ 1.01483536]\\n7 0.000292144 [ 1.00791216]\\n8 8.30968e-05 [ 1.00421977]\\n9 2.36361e-05 [ 1.00225055]\\n10 6.72385e-06 [ 1.00120032]\\n11 1.91239e-06 [ 1.00064015]\\n12 5.43968e-07 [ 1.00034142]\\n13 1.54591e-07 [ 1.00018203]\\n14 4.39416e-08 [ 1.00009704]\\n15 1.24913e-08 [ 1.00005174]\\n16 3.5322e-09 [ 1.00002754]\\n17 9.99824e-10 [ 1.00001466]\\n18 2.88878e-10 [ 1.00000787]\\n19 8.02487e-11 [ 1.00000417]\\n20 2.34053e-11 [ 1.00000226]\\n'"
     },
     "execution_count": 2,
     "metadata": {},
     "output_type": "execute_result"
    }
   ],
   "source": [
    "# Lab 3 Minimizing Cost\n",
    "import tensorflow as tf\n",
    "\n",
    "tf.set_random_seed(777)  # for reproducibility\n",
    "\n",
    "x_data = [1, 2, 3]\n",
    "y_data = [1, 2, 3]\n",
    "\n",
    "# Try to find values for W and b to compute y_data = W * x_data\n",
    "# We know that W should be 1\n",
    "# But let's use TensorFlow to figure it out\n",
    "W = tf.Variable(tf.random_normal([1]), name=\"weight\")\n",
    "\n",
    "X = tf.placeholder(tf.float32)\n",
    "Y = tf.placeholder(tf.float32)\n",
    "\n",
    "# Our hypothesis for linear model X * W\n",
    "hypothesis = X * W\n",
    "\n",
    "# cost/loss function\n",
    "cost = tf.reduce_mean(tf.square(hypothesis - Y))\n",
    "\n",
    "# Minimize: Gradient Descent using derivative: W -= learning_rate * derivative\n",
    "learning_rate = 0.1\n",
    "gradient = tf.reduce_mean((W * X - Y) * X)\n",
    "descent = W - learning_rate * gradient\n",
    "update = W.assign(descent)\n",
    "\n",
    "# Launch the graph in a session.\n",
    "with tf.Session() as sess:\n",
    "    # Initializes global variables in the graph.\n",
    "    sess.run(tf.global_variables_initializer())\n",
    "\n",
    "    for step in range(21):\n",
    "        _, cost_val, W_val = sess.run(\n",
    "            [update, cost, W], feed_dict={X: x_data, Y: y_data}\n",
    "        )\n",
    "        print(step, cost_val, W_val)\n",
    "\n",
    "\"\"\"\n",
    "0 1.93919 [ 1.64462376]\n",
    "1 0.551591 [ 1.34379935]\n",
    "2 0.156897 [ 1.18335962]\n",
    "3 0.0446285 [ 1.09779179]\n",
    "4 0.0126943 [ 1.05215561]\n",
    "5 0.00361082 [ 1.0278163]\n",
    "6 0.00102708 [ 1.01483536]\n",
    "7 0.000292144 [ 1.00791216]\n",
    "8 8.30968e-05 [ 1.00421977]\n",
    "9 2.36361e-05 [ 1.00225055]\n",
    "10 6.72385e-06 [ 1.00120032]\n",
    "11 1.91239e-06 [ 1.00064015]\n",
    "12 5.43968e-07 [ 1.00034142]\n",
    "13 1.54591e-07 [ 1.00018203]\n",
    "14 4.39416e-08 [ 1.00009704]\n",
    "15 1.24913e-08 [ 1.00005174]\n",
    "16 3.5322e-09 [ 1.00002754]\n",
    "17 9.99824e-10 [ 1.00001466]\n",
    "18 2.88878e-10 [ 1.00000787]\n",
    "19 8.02487e-11 [ 1.00000417]\n",
    "20 2.34053e-11 [ 1.00000226]\n",
    "\"\"\""
   ],
   "metadata": {
    "collapsed": false,
    "pycharm": {
     "name": "#%%\n"
    }
   }
  }
 ],
 "metadata": {
  "kernelspec": {
   "display_name": "Python 3",
   "language": "python",
   "name": "python3"
  },
  "language_info": {
   "codemirror_mode": {
    "name": "ipython",
    "version": 2
   },
   "file_extension": ".py",
   "mimetype": "text/x-python",
   "name": "python",
   "nbconvert_exporter": "python",
   "pygments_lexer": "ipython2",
   "version": "2.7.6"
  }
 },
 "nbformat": 4,
 "nbformat_minor": 0
}